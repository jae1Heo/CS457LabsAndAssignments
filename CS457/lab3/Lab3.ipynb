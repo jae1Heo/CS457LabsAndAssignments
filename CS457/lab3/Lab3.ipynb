{
 "cells": [
  {
   "cell_type": "markdown",
   "id": "488b8266",
   "metadata": {},
   "source": [
    "# Lab Assignment: Building a Neural Network from Scratch\n",
    "\n",
    "### Objective\n",
    "This lab guides you through the implementation of a simple feedforward neural network from scratch. \n",
    "By completing this lab, you will:\n",
    "- Initialize a neural network with weights and biases.\n",
    "- Compute the weighted sum at each node.\n",
    "- Apply activation functions for node outputs.\n",
    "- Perform forward propagation to compute predictions.\n",
    "- Implement backpropagation to compute gradients.\n",
    "- Update weights using gradients to minimize the loss."
   ]
  },
  {
   "cell_type": "markdown",
   "id": "2668a14e",
   "metadata": {},
   "source": [
    "## Step 1: Initialize the Network"
   ]
  },
  {
   "cell_type": "code",
   "execution_count": 506,
   "id": "396df339",
   "metadata": {},
   "outputs": [
    {
     "name": "stdout",
     "output_type": "stream",
     "text": [
      "<Jay > + Initialized Network: {'layer_1': {'node_1': {'weights': array([0.37, 0.95, 0.73]), 'bias': array([0.6])}, 'node_2': {'weights': array([0.16, 0.16, 0.06]), 'bias': array([0.87])}, 'node_3': {'weights': array([0.6 , 0.71, 0.02]), 'bias': array([0.97])}, 'node_4': {'weights': array([0.83, 0.21, 0.18]), 'bias': array([0.18])}}, 'layer_2': {'node_1': {'weights': array([0.3 , 0.52, 0.43, 0.29]), 'bias': array([0.61])}, 'node_2': {'weights': array([0.14, 0.29, 0.37, 0.46]), 'bias': array([0.79])}, 'node_3': {'weights': array([0.2 , 0.51, 0.59, 0.05]), 'bias': array([0.61])}}, 'output': {'node_1': {'weights': array([0.17, 0.07, 0.95]), 'bias': array([0.97])}}}\n"
     ]
    }
   ],
   "source": [
    "import numpy as np\n",
    "np.random.seed(42) # For reproducibility\n",
    "def initialize_network(input_size, hidden_layers, output_size):\n",
    "    # Your code should contain the weights and biases\n",
    "    # provide your code\n",
    "    network = {} # initializing network \n",
    "    \n",
    "    num_nodes_previous = input_size # number of nodes in previous layer\n",
    "\n",
    "    # loop through each layer and randomly initialize the weights and biases associated with each node\n",
    "    for layer in range(len(hidden_layers) + 1):\n",
    "        if layer == len(hidden_layers): # if current node is output layer\n",
    "            layer_name = 'output'\n",
    "            num_nodes = output_size\n",
    "        else: # otherwise\n",
    "            layer_name = 'layer_{}'.format(layer+1)\n",
    "            num_nodes = hidden_layers[layer]\n",
    "\n",
    "        network[layer_name] = {} # initializing weights and biases of current layer\n",
    "        for node in range(num_nodes):\n",
    "            node_name = 'node_{}'.format(node+1)\n",
    "            network[layer_name][node_name] = {\n",
    "                'weights': np.around(np.random.uniform(size=num_nodes_previous), decimals=2),\n",
    "                'bias': np.around(np.random.uniform(size=1), decimals=2)\n",
    "            }\n",
    "        num_nodes_previous = num_nodes\n",
    "\n",
    "    return network\n",
    "        \n",
    " \n",
    "# Initialize a network with 3 inputs, 2 hidden layers (4 and 3 nodes), and 1 output node\n",
    "network = initialize_network(3, [4, 3], 1)\n",
    "print(\"<Jay > + Initialized Network:\", network)"
   ]
  },
  {
   "cell_type": "markdown",
   "id": "3ecfdd84",
   "metadata": {},
   "source": [
    "## Step 2: Compute Weighted Sum"
   ]
  },
  {
   "cell_type": "code",
   "execution_count": 509,
   "id": "66c4ad58",
   "metadata": {},
   "outputs": [
    {
     "name": "stdout",
     "output_type": "stream",
     "text": [
      "3\n",
      "<Jay > + Weighted Sum: [1.048]\n"
     ]
    }
   ],
   "source": [
    "def compute_weighted_sum(inputs, weights, biases):\n",
    "    # Please numpy dot to calcuate the compute weighted with linear \n",
    "    # provide your code\n",
    "    return np.sum(inputs * weights) + biases\n",
    "\n",
    "# Test weighted sum\n",
    "inputs = np.array([[0.5, 0.2, 0.1]])\n",
    "print(len(network['layer_1']['node_1']['weights']))\n",
    "Z = compute_weighted_sum(inputs, network['layer_1']['node_1']['weights'], network['layer_1']['node_1']['bias'])\n",
    "print(\"<Jay > + Weighted Sum:\", Z)"
   ]
  },
  {
   "cell_type": "markdown",
   "id": "7d82553f",
   "metadata": {},
   "source": [
    "## Step 3: Compute Node Activation"
   ]
  },
  {
   "cell_type": "code",
   "execution_count": null,
   "id": "8a7445e5-e705-456b-b325-9722089a6d7c",
   "metadata": {},
   "outputs": [],
   "source": []
  },
  {
   "cell_type": "code",
   "execution_count": 513,
   "id": "36b00bf0",
   "metadata": {},
   "outputs": [
    {
     "name": "stdout",
     "output_type": "stream",
     "text": [
      "<Jay > + Activation: [0.74039066]\n"
     ]
    }
   ],
   "source": [
    "def sigmoid(Z):\n",
    "#     provide your code\n",
    "    return (1.0 / (1.0 + np.exp(-Z)))\n",
    "\n",
    "def sigmoid_derivative(A):\n",
    "    # provide your code\n",
    "    return A[-1] * (1-A[-1])\n",
    "\n",
    "# Compute activation for the weighted sum\n",
    "A = sigmoid(Z)\n",
    "print(\"<Jay > + Activation:\", A)"
   ]
  },
  {
   "cell_type": "markdown",
   "id": "769f9c55",
   "metadata": {},
   "source": [
    "## Step 4: Perform Forward Propagation"
   ]
  },
  {
   "cell_type": "code",
   "execution_count": 516,
   "id": "5d2e9d28",
   "metadata": {
    "scrolled": true
   },
   "outputs": [
    {
     "name": "stdout",
     "output_type": "stream",
     "text": [
      "<Jay > + Final Output: [0.8775]\n"
     ]
    }
   ],
   "source": [
    "def forward_propagation(inputs, network):\n",
    "    # provide your code\n",
    "    layer_inputs = list(inputs) # starting with input layer\n",
    "    activations = []  # list that holds activatied value\n",
    "    for layer in network:\n",
    "        layer_data = network[layer] # stores current layer's data\n",
    "\n",
    "        layer_outputs = [] \n",
    "        for layer_node in layer_data:\n",
    "            node_data = layer_data[layer_node]\n",
    "            # activating node value\n",
    "            node_output = sigmoid(compute_weighted_sum(layer_inputs, node_data['weights'], node_data['bias']))\n",
    "            layer_outputs.append(np.around(node_output[0], decimals=4))\n",
    "            \n",
    "        activations.append(layer_outputs) # storing result into the list \n",
    "        layer_inputs = layer_outputs\n",
    "\n",
    "    return activations\n",
    "    \n",
    "   \n",
    "# Perform forward propagation\n",
    "activations = forward_propagation(inputs, network)\n",
    "print(\"<Jay > + Final Output:\", activations[-1])"
   ]
  },
  {
   "cell_type": "markdown",
   "id": "e342f58d",
   "metadata": {},
   "source": [
    "## Step 5: Backpropagation"
   ]
  },
  {
   "cell_type": "code",
   "execution_count": 519,
   "id": "1ec4d75a",
   "metadata": {},
   "outputs": [],
   "source": [
    "def backpropagation(network, activations, y_true, learning_rate):\n",
    "   # provide your code\n",
    "    \n",
    "    delta_output = (activations[-1] - y_true) * sigmoid_derivative(activations[-1]) # delta for output layer\n",
    "\n",
    "    # iterate from output layer to input layer\n",
    "    for i in range(len(network) - 1, -1, -1):\n",
    "        current_layer = network[list(network)[i]] \n",
    "\n",
    "        # checks layer's name\n",
    "        if list(network)[i] == 'output':\n",
    "            # if output layer, use the precomputed delta\n",
    "            delta = delta_output\n",
    "        else:\n",
    "            # computing delta by propagating the error backward. \n",
    "            \n",
    "            next_layer_name = list(network.keys())[i + 1]\n",
    "            next_layer = network[next_layer_name]\n",
    "            weight_matrix = np.array([node['weights'] for node in next_layer.values()])\n",
    "\n",
    "            \n",
    "            delta = np.dot(delta, weight_matrix) * sigmoid_derivative(activations[i+1])\n",
    "        \n",
    "        # loop through each node in the current layer\n",
    "        for node_idx, (node_name, node_data) in enumerate(current_layer.items()):\n",
    "            a_prev = activations[i][node_idx]\n",
    "            # activation from previous layer\n",
    "           \n",
    "            dW = delta[0][node_idx] * a_prev # gradient of weights\n",
    "            db = delta[0][node_idx] # gradient of biases\n",
    "\n",
    "            current_layer[node_name]['weights'] -= learning_rate * dW # updating weights\n",
    "            current_layer[node_name]['bias'] -= learning_rate * db # updating biases\n",
    "      \n",
    "    \n",
    "    \n",
    "\n",
    "# Compute gradients\n",
    "y_true = np.array([[1]])  # Example target output\n",
    "\n",
    "backpropagation(network, activations, y_true, learning_rate = 0.1)  # learning rate provided from step 6\n",
    "# variable gradients is no longer in use anymore since function backpropagation updates weights and bias\n",
    "#gradients = backpropagation(network, activations, y_true)\n",
    "#print(\"<Jay > + Gradients:\", gradients)"
   ]
  },
  {
   "cell_type": "markdown",
   "id": "d6b81797-9f82-493a-a509-b1360f04071c",
   "metadata": {},
   "source": [
    "## Step 6: Update Weights"
   ]
  },
  {
   "cell_type": "code",
   "execution_count": 522,
   "id": "33990e4e-9a02-4728-9ff5-fc41e7ef42be",
   "metadata": {},
   "outputs": [
    {
     "name": "stdout",
     "output_type": "stream",
     "text": [
      "<Jay> + Updated Network: {'layer_1': {'node_1': {'weights': array([0.37000359, 0.95000359, 0.73000359]), 'bias': array([0.60000485])}, 'node_2': {'weights': array([0.16000836, 0.16000836, 0.06000836]), 'bias': array([0.87001148])}, 'node_3': {'weights': array([0.60001026, 0.71001026, 0.02001026]), 'bias': array([0.97001276])}, 'node_4': {'weights': array([0.83000165, 0.21000165, 0.18000165]), 'bias': array([0.18000251])}}, 'layer_2': {'node_1': {'weights': array([0.30002063, 0.52002063, 0.43002063, 0.29002063]), 'bias': array([0.61002423])}, 'node_2': {'weights': array([0.14000852, 0.29000852, 0.37000852, 0.46000852]), 'bias': array([0.79001007])}, 'node_3': {'weights': array([0.20011272, 0.51011272, 0.59011272, 0.05011272]), 'bias': array([0.61013463])}}, 'output': {'node_1': {'weights': array([0.17115549, 0.07115549, 0.95115549]), 'bias': array([0.9713168])}}}\n"
     ]
    }
   ],
   "source": [
    "#def update_weights(network, gradients, learning_rate):\n",
    "    # Hints: weights -= learning_rate * 'dW'\n",
    "    # Hints: biases -= learning_rate * 'db'\n",
    "    # Provide your code\n",
    "\n",
    "# function update_weights is no longer in use anymore since weights and biases are updated in backpropagation function\n",
    "    \n",
    "# Update weights with a learning rate of 0.1\n",
    "#update_weights(network, gradients, learning_rate=0.1)\n",
    "print(\"<Jay> + Updated Network:\", network)"
   ]
  },
  {
   "cell_type": "markdown",
   "id": "ed55add1",
   "metadata": {},
   "source": [
    "## Step 7: Visualizing Loss Changes"
   ]
  },
  {
   "cell_type": "code",
   "execution_count": 525,
   "id": "9fe355dc",
   "metadata": {},
   "outputs": [],
   "source": [
    "# Use MSE to compute the loss \n",
    "def compute_loss(y_true, y_pred):\n",
    "    # provide your code\n",
    "    return np.mean((y_true - y_pred)**2)\n"
   ]
  },
  {
   "cell_type": "code",
   "execution_count": 527,
   "id": "f7270921",
   "metadata": {},
   "outputs": [
    {
     "data": {
      "image/png": "[encoded data removed]",
      "text/plain": [
       "<Figure size 640x480 with 1 Axes>"
      ]
     },
     "metadata": {},
     "output_type": "display_data"
    }
   ],
   "source": [
    "import matplotlib.pyplot as plt\n",
    "\n",
    "# Training Loop\n",
    "losses = []\n",
    "inputs = np.array([[0.5, 0.2, 0.1]])\n",
    "y_true = np.array([[1]])\n",
    "learning_rate = 0.1\n",
    "\n",
    "for iteration in range(1000):\n",
    "    # provide your code\n",
    "    # Hints: forward_propagation function with inputs network\n",
    "    #        compute_loss for y_true and activations[-1]\n",
    "    #        add loss to losses\n",
    "    activations = forward_propagation(inputs, network) # computing activations\n",
    "\n",
    "    loss = compute_loss(y_true, activations[-1]) # computing loss for current iteration\n",
    "    losses.append(loss) # append the computed loss to the list\n",
    "\n",
    "    backpropagation(network, activations, y_true, learning_rate) # backpropagate, update weights and biases\n",
    "    # gradients = backpropagation function\n",
    "    # update_weights\n",
    "\n",
    "    \n",
    "    \n",
    "# Plot Loss and rerun all cells\n",
    "plt.plot(losses)\n",
    "plt.title(\"<Jay> + Loss Before and After Weight Updates\")\n",
    "plt.xlabel(\"Iterations\")\n",
    "plt.ylabel(\"Loss\")\n",
    "plt.show()\n"
   ]
  },
  {
   "cell_type": "markdown",
   "id": "737f4b49-9f2b-4e5c-8f75-cb102fc858e0",
   "metadata": {},
   "source": [
    "### Step 8: Visualizing Gradients Changes (Graduate students)"
   ]
  },
  {
   "cell_type": "markdown",
   "id": "42a89b54-adeb-4a5d-89b2-1883ce9634a7",
   "metadata": {},
   "source": [
    "Please pick a weight and plot the gradient change\n",
    "\n",
    "You need to point which weight you pick and label it on your graph."
   ]
  },
  {
   "cell_type": "code",
   "execution_count": null,
   "id": "e59f30cb-09da-48e9-9551-d9055db6e26b",
   "metadata": {},
   "outputs": [],
   "source": [
    "# Your code"
   ]
  },
  {
   "cell_type": "code",
   "execution_count": null,
   "id": "57f0d830-3ed2-4d96-9a72-3cca41792c07",
   "metadata": {},
   "outputs": [],
   "source": []
  }
 ],
 "metadata": {
  "kernelspec": {
   "display_name": "Python [conda env:base] *",
   "language": "python",
   "name": "conda-base-py"
  },
  "language_info": {
   "codemirror_mode": {
    "name": "ipython",
    "version": 3
   },
   "file_extension": ".py",
   "mimetype": "text/x-python",
   "name": "python",
   "nbconvert_exporter": "python",
   "pygments_lexer": "ipython3",
   "version": "3.12.7"
  }
 },
 "nbformat": 4,
 "nbformat_minor": 5
}
