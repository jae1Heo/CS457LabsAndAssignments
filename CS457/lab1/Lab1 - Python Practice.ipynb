{
 "cells": [
  {
   "cell_type": "markdown",
   "metadata": {},
   "source": [
    "# Exercises with Python"
   ]
  },
  {
   "cell_type": "code",
   "execution_count": 415,
   "metadata": {},
   "outputs": [],
   "source": [
    "import numpy as np\n",
    "import matplotlib.pyplot as plt\n",
    "import pandas as pd"
   ]
  },
  {
   "cell_type": "markdown",
   "metadata": {},
   "source": [
    "## Exercise 1 - Numpy\n",
    "#### Creat an array of 450 random integers between -10 and 10"
   ]
  },
  {
   "cell_type": "code",
   "execution_count": 418,
   "metadata": {},
   "outputs": [
    {
     "data": {
      "text/plain": [
       "array([ -4,  -3,  10,  -2,   8,  -3,   6,   3,  -4,   8,  10,   2,   7,\n",
       "        -8,   1,  -9,   7,  -6, -10,   1,  -7,  -1,  -2,   8,  -9,  -7,\n",
       "         5,  -3,  -1,  -2,  -5,   6, -10,   0,  -3,  -6,  -6, -10, -10,\n",
       "         6,  -9,   1,   6,  -4,  -6,  -9,  10,  -7,   1,  10,   1,   6,\n",
       "        -7,  10,   4,   0,   0,  -4,  -7,  -2, -10,  -9,  10,  -2,  -5,\n",
       "         4,   3, -10,  -2,  -1,   5,   2,  -7,   9,   7,  -8,   8,   8,\n",
       "         9,   5,  -2,  -7,   1,   6,   1,   8,   9,   8,  -7, -10, -10,\n",
       "        -4,   0,  -9,  -5,   3,  -6,   7,  -3,  -3,   0, -10,   1, -10,\n",
       "         3,   2,  -9,  10,   2,   6,   5,  -2,  -9,  -1,   0,  -5,   2,\n",
       "        -9,  -6,  -1,   9,   3,  -3,  -5,   4,   8,  -8,  -1,   8,   0,\n",
       "         1,  -8,  -9,  -2,   5,   7,  -5,  -8,  -8, -10,   2,  -9,   0,\n",
       "         2,   0,  -8,   9,   7,   0,   1,  -9,   1,  -1, -10,   8,   7,\n",
       "        -7,   3,  -3, -10,   5,   5,   1,  -5,  -3,   3, -10,   6,   8,\n",
       "         7,  -3,  -3,   9,  -3,   5,  -9,   0,   8,   9,   0,  -7,   5,\n",
       "         1,   6,   3,  -4,   8,   3,  -1,  -4,   7,   2,  10,   8,  -9,\n",
       "         1,  -4,  10,   0,   0,  -6,   9,  -4,   2,   2,   6,  -7,  -7,\n",
       "        -3,  -9,  -6,  10,  -3,  -9,   5,   5,   1,   2,  -4,  -6,  10,\n",
       "        -9,   3,  -4,  10,   7,  -6,   2,  10, -10,   1,   3,  -2,  -9,\n",
       "       -10,   0,   8,   0,   6,   4,   2,   6,   3,   2,  10,  -4,   6,\n",
       "         6,   0, -10,  -9,  -1,  -4,   2,  -8,   2,   2,   8,  -3,   7,\n",
       "         2,   8,  -8,  -8,  -8,   6,   4,  -3, -10,   3,   4,   6,   9,\n",
       "        -6,  -9,   7,  -5,   2,   5,   3,  -7, -10,   5,   0,   8,  -5,\n",
       "         8,   5,   0,   4,   2,   9,   7,   5,   5,   1,   9,   7,   8,\n",
       "        -7,   0,  -6,   8,  -3,  -6,   2,   7,  -9,  -8,  -7,   8,   0,\n",
       "        -6,  -6,  10, -10,  -2,   1,   8,   5,  -2,  -5,  -3,  -4,  -8,\n",
       "         0,   6,   2,  -2,  -4,  -8,   6,  10, -10,  10,  -3,  10,   8,\n",
       "        -2,   3,   7,  -3,   6,  -2,   5,  10,  10,  -9,   4,   0,  -8,\n",
       "        -2,   2,   9,  -2,   1,  -6,  -5,  -6,  -5,   3,   8,  -9,   5,\n",
       "        -1,   0,   1,   0,   7,   2,  -9,  -4,   0,   3,   4, -10,  -2,\n",
       "        -8,  10,   2,   6,  -7,   9,   3,  -9,  -7,  -4,   2,  -4,   9,\n",
       "        -8,   4,   0,  -2, -10,   0,   4,  -5,  -7,  -4,   7,   6,  -8,\n",
       "       -10,   3,   0,  10,   9,   7,  -3,  10,   4,  -5,  -5,  -1,  -9,\n",
       "        -4,  10,   7, -10,  -5,   6,   1,  -4,  10,   3, -10,   9,   2,\n",
       "         1,  -2, -10,  -5,  -6,   7,   7,  -1,  -6,   3,   8,   8,  -9,\n",
       "         7,  -8,   0,   3,   4,   0,  -6,   7])"
      ]
     },
     "execution_count": 418,
     "metadata": {},
     "output_type": "execute_result"
    }
   ],
   "source": [
    "# Your code: \n",
    "\n",
    "array = np.random.randint(-10, 11, 450)\n",
    "\n",
    "array"
   ]
  },
  {
   "cell_type": "markdown",
   "metadata": {},
   "source": [
    "#### Resize the above array as a 5x70 matrix. \n",
    "#### Is there a problem? \n",
    "\n",
    "#### If there is, correct it to a suitable shape.\n",
    "\n",
    "We check what dimension our array has:"
   ]
  },
  {
   "cell_type": "code",
   "execution_count": 421,
   "metadata": {},
   "outputs": [
    {
     "name": "stdout",
     "output_type": "stream",
     "text": [
      "(450,)\n"
     ]
    }
   ],
   "source": [
    "# Your code:\n",
    "\n",
    "print(array.shape)\n",
    "\n",
    "#new_matrix = np.reshape(array, (5, 70))\n",
    "\n",
    "# Is there a problem? why?\n",
    "#Please add your idea\n",
    "\n",
    "# np.reshape(array, (5, 70)) will reshape the variable array to 5x70 matrix. This will cause an error since the variable array contains more elements(450)\n",
    "# than the matrix that we want to create(5x70 = 350 elements), so the variable array has to be resized in order to create 5x70 matrix from it.\n",
    "\n"
   ]
  },
  {
   "cell_type": "code",
   "execution_count": 423,
   "metadata": {},
   "outputs": [
    {
     "data": {
      "text/plain": [
       "(450,)"
      ]
     },
     "execution_count": 423,
     "metadata": {},
     "output_type": "execute_result"
    }
   ],
   "source": [
    "array.shape"
   ]
  },
  {
   "cell_type": "markdown",
   "metadata": {},
   "source": [
    "We resize:"
   ]
  },
  {
   "cell_type": "code",
   "execution_count": 426,
   "metadata": {},
   "outputs": [
    {
     "name": "stdout",
     "output_type": "stream",
     "text": [
      "[[ -4  -3  10  -2   8  -3   6   3  -4   8  10   2   7  -8   1  -9   7  -6\n",
      "  -10   1  -7  -1  -2   8  -9  -7   5  -3  -1  -2  -5   6 -10   0  -3  -6\n",
      "   -6 -10 -10   6  -9   1   6  -4  -6  -9  10  -7   1  10   1   6  -7  10\n",
      "    4   0   0  -4  -7  -2 -10  -9  10  -2  -5   4   3 -10  -2  -1]\n",
      " [  5   2  -7   9   7  -8   8   8   9   5  -2  -7   1   6   1   8   9   8\n",
      "   -7 -10 -10  -4   0  -9  -5   3  -6   7  -3  -3   0 -10   1 -10   3   2\n",
      "   -9  10   2   6   5  -2  -9  -1   0  -5   2  -9  -6  -1   9   3  -3  -5\n",
      "    4   8  -8  -1   8   0   1  -8  -9  -2   5   7  -5  -8  -8 -10]\n",
      " [  2  -9   0   2   0  -8   9   7   0   1  -9   1  -1 -10   8   7  -7   3\n",
      "   -3 -10   5   5   1  -5  -3   3 -10   6   8   7  -3  -3   9  -3   5  -9\n",
      "    0   8   9   0  -7   5   1   6   3  -4   8   3  -1  -4   7   2  10   8\n",
      "   -9   1  -4  10   0   0  -6   9  -4   2   2   6  -7  -7  -3  -9]\n",
      " [ -6  10  -3  -9   5   5   1   2  -4  -6  10  -9   3  -4  10   7  -6   2\n",
      "   10 -10   1   3  -2  -9 -10   0   8   0   6   4   2   6   3   2  10  -4\n",
      "    6   6   0 -10  -9  -1  -4   2  -8   2   2   8  -3   7   2   8  -8  -8\n",
      "   -8   6   4  -3 -10   3   4   6   9  -6  -9   7  -5   2   5   3]\n",
      " [ -7 -10   5   0   8  -5   8   5   0   4   2   9   7   5   5   1   9   7\n",
      "    8  -7   0  -6   8  -3  -6   2   7  -9  -8  -7   8   0  -6  -6  10 -10\n",
      "   -2   1   8   5  -2  -5  -3  -4  -8   0   6   2  -2  -4  -8   6  10 -10\n",
      "   10  -3  10   8  -2   3   7  -3   6  -2   5  10  10  -9   4   0]]\n"
     ]
    }
   ],
   "source": [
    "corrected_matrix = np.resize(array, (5,70))\n",
    "print(corrected_matrix)"
   ]
  },
  {
   "cell_type": "markdown",
   "metadata": {},
   "source": [
    "#### Choose values greater than 0 from your corrected_matrix."
   ]
  },
  {
   "cell_type": "code",
   "execution_count": 429,
   "metadata": {},
   "outputs": [],
   "source": [
    "# Your code\n",
    "\n",
    "vals_greater = corrected_matrix[corrected_matrix>0]\n"
   ]
  },
  {
   "cell_type": "markdown",
   "metadata": {},
   "source": [
    "#### Given this array x = np.array ([- 5,6, -7,9]), create another array in absolute value "
   ]
  },
  {
   "cell_type": "code",
   "execution_count": 432,
   "metadata": {},
   "outputs": [],
   "source": [
    "# your code:\n",
    "x = np.array([-5, 6, -7, 9])\n",
    "absolutes = abs(x)"
   ]
  },
  {
   "cell_type": "markdown",
   "metadata": {},
   "source": [
    "#### Given this array x = np.array ([- 5,6, -7,9]), transform it into a 2x2 matrix and calculate the maximum and minimum of each row and column. "
   ]
  },
  {
   "cell_type": "code",
   "execution_count": 435,
   "metadata": {},
   "outputs": [],
   "source": [
    "# your code:\n",
    "x = np.array([-5, 6, -7, 9])\n",
    "x_reshaped = np.reshape(x, (2,2))\n",
    "\n",
    "min_row_1 = x_reshaped[0][0] if x_reshaped[0][0] < x_reshaped[0][1] else x_reshaped[0][1]\n",
    "max_row_1 = x_reshaped[0][0] if x_reshaped[0][0] > x_reshaped[0][1] else x_reshaped[0][1]\n",
    "\n",
    "min_row_2 = x_reshaped[1][0] if x_reshaped[1][0] < x_reshaped[1][1] else x_reshaped[1][1]\n",
    "max_row_2 = x_reshaped[1][0] if x_reshaped[1][0] > x_reshaped[1][1] else x_reshaped[1][1]\n",
    "\n",
    "min_col_1 = x_reshaped.T[0][0] if x_reshaped.T[0][0] < x_reshaped.T[0][1] else x_reshaped.T[0][1]\n",
    "max_col_1 = x_reshaped.T[0][0] if x_reshaped.T[0][0] > x_reshaped.T[0][1] else x_reshaped.T[0][1]\n",
    "\n",
    "min_col_2 = x_reshaped.T[1][0] if x_reshaped.T[1][0] < x_reshaped.T[0][1] else x_reshaped.T[0][1]\n",
    "max_col_2 = x_reshaped.T[1][0] if x_reshaped.T[1][0] > x_reshaped.T[1][1] else x_reshaped.T[1][1]"
   ]
  },
  {
   "cell_type": "markdown",
   "metadata": {},
   "source": [
    "#### Create a matrix of ones with 3x3 range as a_ones, and modify the the a_ones[1][0] = 3  "
   ]
  },
  {
   "cell_type": "code",
   "execution_count": 438,
   "metadata": {},
   "outputs": [
    {
     "data": {
      "text/plain": [
       "array([[1., 1., 1.],\n",
       "       [3., 1., 1.],\n",
       "       [1., 1., 1.]])"
      ]
     },
     "execution_count": 438,
     "metadata": {},
     "output_type": "execute_result"
    }
   ],
   "source": [
    "# your code:\n",
    "\n",
    "a_ones = np.reshape(np.ones(9), (3,3))\n",
    "\n",
    "a_ones[1][0] = 3\n",
    "\n",
    "a_ones\n"
   ]
  },
  {
   "cell_type": "markdown",
   "metadata": {},
   "source": [
    "#### Compute dot product for a_ones and x_reshaped"
   ]
  },
  {
   "cell_type": "code",
   "execution_count": 445,
   "metadata": {},
   "outputs": [],
   "source": [
    "# your code\n",
    "\n",
    "x_res = np.resize(x_reshaped, (2, 3))#np.pad(x_reshaped, (0,1), 'constant')\n",
    "\n",
    "result = np.dot(a_ones, x_res.T)\n",
    "\n",
    "\n",
    "# List the mathematical calculation steps\n",
    "#    x_reshaped was resized by 2x3 matrix. \n",
    "#    values for resized x_reshaped = [[-5, 9],\n",
    "#                                     [ 6,-5],\n",
    "#                                     [-7, 6]]\n",
    "#    values for a_ones = [[1, 1, 1],\n",
    "#                         [3, 1, 1],\n",
    "#                         [1, 1, 1]].\n",
    "#\n",
    "#     dot product between a_ones, x_res:\n",
    "#     [1, 1, 1] * [-5, 6, -7] = -6\n",
    "#     [3, 1, 1] * [-5, 6, -7] = -16\n",
    "#     [1, 1, 1] * [-5, 6, -7] = 6\n",
    "#     \n",
    "#     [1, 1, 1] * [9, -5, 6] = 10\n",
    "#     [3, 1, 1] * [9, -5, 6] = 28\n",
    "#     [1, 1, 1] * [9, -5, 6] = 19\n",
    "#\n",
    "#      Thus result = [[-6, 10],\n",
    "#                     [-16, 28],\n",
    "#                     [-6, 10]]. \n",
    "#\n",
    "#\n",
    "\n"
   ]
  },
  {
   "cell_type": "markdown",
   "metadata": {},
   "source": [
    "## Exercise 2 - Plot Practice"
   ]
  },
  {
   "cell_type": "markdown",
   "metadata": {},
   "source": [
    "#### Undergraduate student Instructions (CS457)\n",
    "\n",
    "- Let's think if we have this function: f (t) defined by: f (t) = 2t / (1 + t ^ 2) ^ 2 with t> 0.\n",
    "- Where t could be generated by np.linspace(0,10,100)\n",
    "- Provide plot results"
   ]
  },
  {
   "cell_type": "code",
   "execution_count": 449,
   "metadata": {},
   "outputs": [],
   "source": [
    "# Your code:\n",
    "t = np.linspace(0,10,100)"
   ]
  },
  {
   "cell_type": "code",
   "execution_count": 451,
   "metadata": {},
   "outputs": [
    {
     "data": {
      "image/png": "[encoded data removed]",
      "text/plain": [
       "<Figure size 800x500 with 1 Axes>"
      ]
     },
     "metadata": {},
     "output_type": "display_data"
    }
   ],
   "source": [
    "# Plot graph with x, y and label set the fontsize = 14\n",
    "# Plot <Your Name> + title and set the fontsize = 14\n",
    "# plot size as (8,5)\n",
    "# plot with legend\n",
    "# plot with grid\n",
    "\n",
    "\n",
    "plt.subplots(figsize=(8,5))\n",
    "plt.title(\"Jay + Graph of $y = \\\\frac{2x}{(1+x^2)^2}$\", fontsize=14)\n",
    "plt.scatter(t, (2*t)/pow(1+pow(t, 2), 2), color='blue', label='dots')\n",
    "plt.plot(t, (2*t)/pow(1+pow(t, 2), 2), color='red', label='line-graph')\n",
    "plt.grid()\n",
    "plt.legend()\n",
    "plt.show()"
   ]
  },
  {
   "cell_type": "markdown",
   "metadata": {},
   "source": [
    "#### Graduate student Instructions (CS557)\n",
    "\n",
    "- Let's think if we have this function: f (t) defined by: f (t) = 2t / (1 + t ^ 2) ^ 2 with t> 0.\n",
    "- Where t could be generated by np.linspace(0,10,100)\n",
    "- Provide line graph with mask = star\n",
    "- Provide bar graph with any 5 points data"
   ]
  },
  {
   "cell_type": "code",
   "execution_count": 454,
   "metadata": {},
   "outputs": [],
   "source": [
    "# Your code:\n"
   ]
  },
  {
   "cell_type": "code",
   "execution_count": 456,
   "metadata": {},
   "outputs": [
    {
     "data": {
      "image/png": "[encoded data removed]",
      "text/plain": [
       "<Figure size 640x480 with 1 Axes>"
      ]
     },
     "metadata": {},
     "output_type": "display_data"
    }
   ],
   "source": [
    "# Line Graph\n",
    "# Plot graph with x, y and label set the fontsize = 14\n",
    "# Plot <Your Name> + title and set the fontsize = 14\n",
    "# plot size as (8,5)\n",
    "# plot with legend\n",
    "# plot with grid\n",
    "\n",
    "\n",
    "plt.title(\"<Your Name> + Graph of $y = \\\\frac{2x}{(1+x^2)^2}$\", fontsize=14)\n",
    "\n",
    "plt.show()"
   ]
  },
  {
   "cell_type": "code",
   "execution_count": 458,
   "metadata": {},
   "outputs": [
    {
     "data": {
      "image/png": "[encoded data removed]",
      "text/plain": [
       "<Figure size 640x480 with 1 Axes>"
      ]
     },
     "metadata": {},
     "output_type": "display_data"
    }
   ],
   "source": [
    "# Bar Graph\n",
    "# Plot graph with x, y and label set the fontsize = 14\n",
    "# Plot <Your Name> + title and set the fontsize = 14\n",
    "# plot size as (8,5)\n",
    "# plot with legend\n",
    "# plot with grid\n",
    "\n",
    "\n",
    "plt.title(\"<Your Name> + Graph of $y = \\\\frac{2x}{(1+x^2)^2}$\", fontsize=14)\n",
    "\n",
    "plt.show()"
   ]
  },
  {
   "cell_type": "markdown",
   "metadata": {},
   "source": [
    "# Exercise 3 - Pandas "
   ]
  },
  {
   "cell_type": "markdown",
   "metadata": {},
   "source": [
    "#### You have obtained a piece of data about a hill. Please manually assign this data to a dictionary.\n",
    "\n",
    "\n",
    "\"Hill Name\": [\"Everest\", \"K2\", \"Kangchenjunga\", \"Lhotse\", \"Makalu\", \"Cho Oyu\", \"Dhaulagiri\", \"Manaslu\", \"Nanga Parbat\", \"Annapurna\"],\n",
    "\n",
    "\"Height (m)\": [8848, 8611, 8586, 8516, 8485, 8188, 8167, 8163, 8126, 8091],\n",
    "\n",
    "\"Location\": [\"Nepal/China\", \"Pakistan/China\", \"Nepal/India\", \"Nepal/China\", \"Nepal/China\", \"Nepal/China\", \"Nepal\", \"Nepal\", \"Pakistan\", \"Nepal\"],\n",
    "\n",
    "\"First Ascent Year\": [1953, 1954, 1955, 1956, 1955, 1954, 1960, 1956, 1953, 1950],\n",
    "\n",
    "\"Prominence (m)\": [8848, 4017, 3922, 610, 2378, 2340, 3357, 3092, 4608, 2984]\n"
   ]
  },
  {
   "cell_type": "code",
   "execution_count": 462,
   "metadata": {},
   "outputs": [],
   "source": [
    "# Your code: \n",
    "hill_data =  {\"Hill Name\": [\"Everest\", \"K2\", \"Kangchenjunga\", \"Lhotse\", \"Makalu\", \"Cho Oyu\", \"Dhaulagiri\", \"Manaslu\", \"Nanga Parbat\", \"Annapurna\"],\n",
    "              \"Height (m)\": [8848, 8611, 8586, 8516, 8485, 8188, 8167, 8163, 8126, 8091],\n",
    "              \"Location\": [\"Nepal/China\", \"Pakistan/China\", \"Nepal/India\", \"Nepal/China\", \"Nepal/China\", \"Nepal/China\", \"Nepal\", \"Nepal\", \"Pakistan\", \"Nepal\"],\n",
    "              \"First Ascent Year\": [1953, 1954, 1955, 1956, 1955, 1954, 1960, 1956, 1953, 1950],\n",
    "              \"Prominence (m)\": [8848, 4017, 3922, 610, 2378, 2340, 3357, 3092, 4608, 2984]}"
   ]
  },
  {
   "cell_type": "markdown",
   "metadata": {},
   "source": [
    "#### Convert your dictionary to a pandas dataframe with name hill_pd"
   ]
  },
  {
   "cell_type": "code",
   "execution_count": 465,
   "metadata": {},
   "outputs": [],
   "source": [
    "\n",
    "#Your code:\n",
    "\n",
    "hill_pd = pd.DataFrame(hill_data)\n"
   ]
  },
  {
   "cell_type": "markdown",
   "metadata": {},
   "source": [
    "#### Save your hill_pd to csv"
   ]
  },
  {
   "cell_type": "code",
   "execution_count": 468,
   "metadata": {},
   "outputs": [],
   "source": [
    "# Your code:\n",
    "hill_pd.to_csv('hills.csv', index=False)"
   ]
  },
  {
   "cell_type": "markdown",
   "metadata": {},
   "source": [
    "#### Read your hill data from your csv"
   ]
  },
  {
   "cell_type": "code",
   "execution_count": 471,
   "metadata": {},
   "outputs": [],
   "source": [
    "# your code\n",
    "hill_dat = pd.read_csv('hills.csv')\n"
   ]
  },
  {
   "cell_type": "markdown",
   "metadata": {},
   "source": [
    "#### Please select hills with an altitude higher than 8100 meters and express them in the form of a bar graph."
   ]
  },
  {
   "cell_type": "code",
   "execution_count": 474,
   "metadata": {},
   "outputs": [],
   "source": [
    "# your code:\n",
    "\n",
    "selected_hill = hill_dat[hill_dat[\"Height (m)\"] > 8100]\n"
   ]
  },
  {
   "cell_type": "code",
   "execution_count": 476,
   "metadata": {},
   "outputs": [
    {
     "data": {
      "image/png": "[encoded data removed]",
      "text/plain": [
       "<Figure size 1200x500 with 1 Axes>"
      ]
     },
     "metadata": {},
     "output_type": "display_data"
    }
   ],
   "source": [
    "# Visualization\n",
    "# Need to add x,y labels, titles and grid.\n",
    "# Please add your name on graph titles.\n",
    "\n",
    "# your code\n",
    "names = np.array(selected_hill[\"Hill Name\"])\n",
    "heights = np.array(selected_hill[\"Height (m)\"])\n",
    "\n",
    "x = np.arange(len(names))\n",
    "fig, ax = plt.subplots(figsize=(12,5))\n",
    "\n",
    "ax.bar(x, heights, width=0.4, label=\"Height (m)\", color='blue')\n",
    "ax.set_xlabel('Name')\n",
    "ax.set_ylabel('Height (m)')\n",
    "ax.set_title(\"Jay + height of selected hills\", fontsize=12)\n",
    "ax.set_xticks(x)\n",
    "ax.set_xticklabels(names)\n",
    "\n",
    "ax.legend()\n",
    "\n",
    "plt.show()"
   ]
  },
  {
   "cell_type": "markdown",
   "metadata": {},
   "source": [
    "#### For Graduate students only (CS557)\n",
    "\n",
    "Please add another set of visualizations using the **Prominence** data and explain their significance."
   ]
  },
  {
   "cell_type": "code",
   "execution_count": null,
   "metadata": {},
   "outputs": [],
   "source": []
  }
 ],
 "metadata": {
  "kernelspec": {
   "display_name": "Python [conda env:base] *",
   "language": "python",
   "name": "conda-base-py"
  },
  "language_info": {
   "codemirror_mode": {
    "name": "ipython",
    "version": 3
   },
   "file_extension": ".py",
   "mimetype": "text/x-python",
   "name": "python",
   "nbconvert_exporter": "python",
   "pygments_lexer": "ipython3",
   "version": "3.12.7"
  }
 },
 "nbformat": 4,
 "nbformat_minor": 4
}
